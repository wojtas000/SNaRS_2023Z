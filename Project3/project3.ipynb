{
 "cells": [
  {
   "cell_type": "code",
   "execution_count": 1,
   "metadata": {},
   "outputs": [],
   "source": [
    "import random\n",
    "import numpy as np\n",
    "import matplotlib.pyplot as plt\n",
    "from matplotlib.animation import FuncAnimation\n"
   ]
  },
  {
   "cell_type": "code",
   "execution_count": 19,
   "metadata": {},
   "outputs": [],
   "source": [
    "def get_elastic_force(edges, positions, k):\n",
    "    elastic_force = np.zeros_like(positions)\n",
    "    for i, j in edges:\n",
    "        elastic_force[i] += k * (positions[j] - positions[i])\n",
    "        elastic_force[j] += k * (positions[i] - positions[j])\n",
    "    return elastic_force\n",
    "\n",
    "def get_electric_force(positions, electric_charge):\n",
    "    electric_force = np.zeros_like(positions)\n",
    "    for i, pos_i in enumerate(positions):\n",
    "        for j, pos_j in enumerate(positions):\n",
    "            if i != j:\n",
    "                diff = pos_i - pos_j\n",
    "                norm = np.linalg.norm(diff)\n",
    "                electric_force[i] += electric_charge**2 * diff / norm**3\n",
    "    return electric_force\n",
    "\n",
    "def get_force(edges, positions, k, electric_charge):\n",
    "    elastic_force = get_elastic_force(edges, positions, k)\n",
    "    electric_force = get_electric_force(positions, electric_charge)\n",
    "    return elastic_force + electric_force\n",
    "\n",
    "def update_positions(edges, positions, k, electric_charge, learning_rate):\n",
    "    force = get_force(edges, positions, k, electric_charge)\n",
    "    positions += learning_rate * force\n",
    "    return positions\n",
    "\n",
    "def draw_graph(edges, positions):\n",
    "    for i, j in edges:\n",
    "        plt.plot([positions[i, 0], positions[j, 0]], [positions[i, 1], positions[j, 1]], color='black')\n",
    "    plt.scatter(positions[:, 0], positions[:, 1], color='black')\n",
    "    plt.show()\n",
    "\n",
    "def get_lines(edges, positions):\n",
    "    x, y = [], []\n",
    "    for i, j in edges:\n",
    "        x.append([positions[i, 0], positions[j, 0]])\n",
    "        y.append([positions[i, 1], positions[j, 1]])\n",
    "    return x, y\n",
    "\n",
    "def get_degrees(edges):\n",
    "    degrees = np.zeros(np.max(edges) + 1)\n",
    "    for i, j in edges:\n",
    "        degrees[i] += 1\n",
    "        degrees[j] += 1\n",
    "    return degrees\n"
   ]
  },
  {
   "cell_type": "code",
   "execution_count": 18,
   "metadata": {},
   "outputs": [
    {
     "data": {
      "text/plain": [
       "4"
      ]
     },
     "execution_count": 18,
     "metadata": {},
     "output_type": "execute_result"
    }
   ],
   "source": [
    "edges = np.array([[0, 1], [0, 2], [0, 3], [0, 4], [1, 2]])\n",
    "np.max(edges)"
   ]
  },
  {
   "cell_type": "code",
   "execution_count": 30,
   "metadata": {},
   "outputs": [],
   "source": [
    "def create_animation(edges, k, electric_charge, num_iterations, animation_name, limits=(-0.5, 1.5), learning_rate=0.01):\n",
    "\n",
    "    memory = []\n",
    "    nodes = list(set(v for edge in edges for v in edge))\n",
    "    positions = np.random.rand(len(nodes), 2)\n",
    "    degrees = get_degrees(edges)\n",
    "\n",
    "    for i in range(num_iterations):\n",
    "        positions = update_positions(edges, positions, k, electric_charge, learning_rate)\n",
    "        memory.append(positions.copy())\n",
    "\n",
    "    # Create a figure for the animation\n",
    "    fig, ax = plt.subplots()\n",
    "    ax.set_aspect('equal')\n",
    "\n",
    "    # Initialize an empty graph for the animation\n",
    "    line, = ax.plot([], [], color='black', lw=1)\n",
    "    scatter = ax.scatter([], [], color='blue', s=100)\n",
    "    # set limits\n",
    "    ax.set_xlim(limits)\n",
    "    ax.set_ylim(limits)\n",
    "\n",
    "    # Define the initialization function for the animation\n",
    "    def init():\n",
    "        line.set_data([], [])\n",
    "        scatter.set_offsets(np.array([]).reshape(0, 2))  # Corrected the initialization of empty array\n",
    "        return line, scatter\n",
    "\n",
    "\n",
    "    # Define the animation update function\n",
    "    def update(i):\n",
    "        positions = memory[i]\n",
    "        x, y = positions.T\n",
    "        x2, y2 = get_lines(edges, positions)\n",
    "        line.set_xdata(x2)\n",
    "        line.set_ydata(y2)\n",
    "        data = np.hstack((x.reshape(-1, 1), y.reshape(-1, 1)))\n",
    "        # colors from colormap proportional to degree\n",
    "        scatter.set_color(plt.cm.OrRd(degrees / np.max(degrees)))\n",
    "        scatter.set_sizes(100 * degrees)\n",
    "        scatter.set_offsets(data)\n",
    "\n",
    "        return line, scatter\n",
    "\n",
    "    # Create the animation\n",
    "    ani = FuncAnimation(fig, update, init_func=init, frames=num_iterations, blit=True, repeat=False)\n",
    "\n",
    "    # Show the animation\n",
    "    plt.show()\n",
    "\n",
    "    # Save the animation\n",
    "    ani.save(animation_name, writer='imagemagick', fps=60)\n"
   ]
  },
  {
   "cell_type": "markdown",
   "metadata": {},
   "source": [
    "# Full graph"
   ]
  },
  {
   "cell_type": "code",
   "execution_count": 31,
   "metadata": {},
   "outputs": [],
   "source": [
    "k = 1.0\n",
    "electric_charge = 1.0\n",
    "num_iterations = 100"
   ]
  },
  {
   "cell_type": "code",
   "execution_count": null,
   "metadata": {},
   "outputs": [],
   "source": [
    "# Define your graph and initial positions here\n",
    "edges = np.array([(0, 1), (1, 2), (0, 2), (0, 3), (1, 3), (2, 3), (0, 4), (1, 4), (2, 4), (3, 4), (0, 5), (1, 5), (2, 5), (3, 5), (4, 5), (0, 6), (1, 6), (2, 6), (3, 6), (4, 6), (5, 6)])\n",
    "create_animation(edges, k, electric_charge, num_iterations, 'full_graph.gif', limits=(-1, 2))"
   ]
  },
  {
   "cell_type": "markdown",
   "metadata": {},
   "source": [
    "# Random Graph"
   ]
  },
  {
   "cell_type": "code",
   "execution_count": null,
   "metadata": {},
   "outputs": [],
   "source": [
    "num_nodes = 40\n",
    "edge_probability = 0.25\n",
    "edges_random_graph = []\n",
    "\n",
    "for i in range(num_nodes):\n",
    "    for j in range(i + 1, num_nodes):\n",
    "        if random.random() < edge_probability:\n",
    "            edges_random_graph.append([i, j])\n",
    "\n",
    "edges_random_graph = np.array(edges_random_graph)\n",
    "create_animation(edges_random_graph, k, electric_charge, num_iterations=200, animation_name='random_graph2.gif', learning_rate=0.01, limits=(-10, 10))\n"
   ]
  },
  {
   "cell_type": "markdown",
   "metadata": {},
   "source": [
    "# Lattice"
   ]
  },
  {
   "cell_type": "code",
   "execution_count": null,
   "metadata": {},
   "outputs": [],
   "source": [
    "# edges for lattice graph\n",
    "edges = np.array([(0, 1), (1, 2), (2, 3), (0, 4), (1, 5), (2, 6), (3, 7), (4, 5), (5, 6), (6, 7), (4, 8), (8, 9), (5, 9), (9, 10), (6, 10), (10, 11), (7, 11)])\n",
    "create_animation(edges, k, electric_charge, num_iterations=200, animation_name='lattice_graph.gif', learning_rate=0.06, limits=(-5, 5))\n"
   ]
  },
  {
   "cell_type": "markdown",
   "metadata": {},
   "source": [
    "# Chain"
   ]
  },
  {
   "cell_type": "code",
   "execution_count": null,
   "metadata": {},
   "outputs": [],
   "source": [
    "edges = np.array([(i, i+1) for i in range(10)])\n",
    "create_animation(edges, k, electric_charge, num_iterations=200, animation_name='chain_graph.gif', learning_rate=0.06, limits=(-10, 10))"
   ]
  }
 ],
 "metadata": {
  "kernelspec": {
   "display_name": "venv",
   "language": "python",
   "name": "python3"
  },
  "language_info": {
   "codemirror_mode": {
    "name": "ipython",
    "version": 3
   },
   "file_extension": ".py",
   "mimetype": "text/x-python",
   "name": "python",
   "nbconvert_exporter": "python",
   "pygments_lexer": "ipython3",
   "version": "3.10.7"
  }
 },
 "nbformat": 4,
 "nbformat_minor": 2
}
