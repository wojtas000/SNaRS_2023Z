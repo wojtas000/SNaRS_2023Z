{
 "cells": [
  {
   "attachments": {},
   "cell_type": "markdown",
   "metadata": {},
   "source": [
    "# Load and prepare dataset"
   ]
  },
  {
   "cell_type": "code",
   "execution_count": 1,
   "metadata": {},
   "outputs": [],
   "source": [
    "import numpy as np\n",
    "import pandas as pd\n",
    "import matplotlib.pyplot as plt\n",
    "from sklearn.metrics.pairwise import cosine_similarity\n",
    "from sklearn.model_selection import train_test_split"
   ]
  },
  {
   "cell_type": "code",
   "execution_count": 38,
   "metadata": {},
   "outputs": [],
   "source": [
    "df = pd.read_csv('data/combined_data_1.txt',header = None, names = ['Cust_Id', 'Rating'], usecols = [0,1])\n",
    "df['Rating'] = df['Rating'].astype(float)\n",
    "df = df[:500000]"
   ]
  },
  {
   "cell_type": "code",
   "execution_count": 39,
   "metadata": {},
   "outputs": [],
   "source": [
    "df['Movie_Id'] = np.nan\n",
    "current_movie_id = None\n",
    "for index, row in df.iterrows():\n",
    "    if row['Cust_Id'].endswith(':'):\n",
    "        current_movie_id = int(row['Cust_Id'][:-1])\n",
    "    df.at[index, 'Movie_Id'] = current_movie_id\n",
    "\n",
    "df = df.dropna(subset=['Rating'])\n",
    "df['Movie_Id'] = df['Movie_Id'].astype(int)\n"
   ]
  },
  {
   "cell_type": "code",
   "execution_count": 40,
   "metadata": {},
   "outputs": [
    {
     "data": {
      "text/html": [
       "<div>\n",
       "<style scoped>\n",
       "    .dataframe tbody tr th:only-of-type {\n",
       "        vertical-align: middle;\n",
       "    }\n",
       "\n",
       "    .dataframe tbody tr th {\n",
       "        vertical-align: top;\n",
       "    }\n",
       "\n",
       "    .dataframe thead th {\n",
       "        text-align: right;\n",
       "    }\n",
       "</style>\n",
       "<table border=\"1\" class=\"dataframe\">\n",
       "  <thead>\n",
       "    <tr style=\"text-align: right;\">\n",
       "      <th></th>\n",
       "      <th>UserID</th>\n",
       "      <th>Rating</th>\n",
       "      <th>MovieID</th>\n",
       "    </tr>\n",
       "  </thead>\n",
       "  <tbody>\n",
       "    <tr>\n",
       "      <th>1</th>\n",
       "      <td>1488844</td>\n",
       "      <td>3.0</td>\n",
       "      <td>1</td>\n",
       "    </tr>\n",
       "    <tr>\n",
       "      <th>2</th>\n",
       "      <td>822109</td>\n",
       "      <td>5.0</td>\n",
       "      <td>1</td>\n",
       "    </tr>\n",
       "    <tr>\n",
       "      <th>3</th>\n",
       "      <td>885013</td>\n",
       "      <td>4.0</td>\n",
       "      <td>1</td>\n",
       "    </tr>\n",
       "    <tr>\n",
       "      <th>4</th>\n",
       "      <td>30878</td>\n",
       "      <td>4.0</td>\n",
       "      <td>1</td>\n",
       "    </tr>\n",
       "    <tr>\n",
       "      <th>5</th>\n",
       "      <td>823519</td>\n",
       "      <td>3.0</td>\n",
       "      <td>1</td>\n",
       "    </tr>\n",
       "  </tbody>\n",
       "</table>\n",
       "</div>"
      ],
      "text/plain": [
       "    UserID  Rating  MovieID\n",
       "1  1488844     3.0        1\n",
       "2   822109     5.0        1\n",
       "3   885013     4.0        1\n",
       "4    30878     4.0        1\n",
       "5   823519     3.0        1"
      ]
     },
     "execution_count": 40,
     "metadata": {},
     "output_type": "execute_result"
    }
   ],
   "source": [
    "df.columns = ['UserID', 'Rating', 'MovieID']\n",
    "df.head()"
   ]
  },
  {
   "cell_type": "code",
   "execution_count": 5,
   "metadata": {},
   "outputs": [
    {
     "name": "stdout",
     "output_type": "stream",
     "text": [
      "Number of unique movies:  148\n"
     ]
    }
   ],
   "source": [
    "print('Number of unique movies: ', len(df['MovieID'].unique()))"
   ]
  },
  {
   "attachments": {},
   "cell_type": "markdown",
   "metadata": {},
   "source": [
    "# Collaborative filtering"
   ]
  },
  {
   "cell_type": "code",
   "execution_count": 47,
   "metadata": {},
   "outputs": [],
   "source": [
    "from surprise import Dataset, Reader\n",
    "from surprise.model_selection import train_test_split\n",
    "from surprise import SVDpp, SVD, NMF\n",
    "from surprise import accuracy"
   ]
  },
  {
   "attachments": {},
   "cell_type": "markdown",
   "metadata": {},
   "source": [
    "## Train-test split"
   ]
  },
  {
   "cell_type": "code",
   "execution_count": 48,
   "metadata": {},
   "outputs": [],
   "source": [
    "reader = Reader(rating_scale=(1, 5))\n",
    "data = Dataset.load_from_df(df[['UserID', 'MovieID', 'Rating']], reader)\n",
    "\n",
    "\n",
    "trainset, testset = train_test_split(data, test_size=0.2, random_state=42)"
   ]
  },
  {
   "attachments": {},
   "cell_type": "markdown",
   "metadata": {},
   "source": [
    "## SVD"
   ]
  },
  {
   "cell_type": "code",
   "execution_count": 49,
   "metadata": {},
   "outputs": [
    {
     "name": "stdout",
     "output_type": "stream",
     "text": [
      "RMSE: 0.9954\n",
      "MAE:  0.7842\n"
     ]
    }
   ],
   "source": [
    "svd_model = SVD()\n",
    "svd_model.fit(trainset)\n",
    "\n",
    "svd_predictions = svd_model.test(testset)\n",
    "\n",
    "svd_rmse = accuracy.rmse(svd_predictions)\n",
    "svd_mae = accuracy.mae(svd_predictions)"
   ]
  },
  {
   "attachments": {},
   "cell_type": "markdown",
   "metadata": {},
   "source": [
    "## SVD++"
   ]
  },
  {
   "cell_type": "code",
   "execution_count": 52,
   "metadata": {},
   "outputs": [
    {
     "name": "stdout",
     "output_type": "stream",
     "text": [
      "RMSE: 1.0002\n",
      "MAE:  0.8046\n"
     ]
    }
   ],
   "source": [
    "svdpp_model = SVDpp()\n",
    "svdpp_model.fit(trainset)\n",
    "\n",
    "svdpp_predictions = svdpp_model.test(testset)\n",
    "\n",
    "svdpp_rmse = accuracy.rmse(svdpp_predictions)\n",
    "svdpp_mae = accuracy.mae(svdpp_predictions)"
   ]
  },
  {
   "attachments": {},
   "cell_type": "markdown",
   "metadata": {},
   "source": [
    "## NMF"
   ]
  },
  {
   "cell_type": "code",
   "execution_count": 51,
   "metadata": {},
   "outputs": [
    {
     "name": "stdout",
     "output_type": "stream",
     "text": [
      "RMSE: 1.1706\n",
      "MAE:  0.9364\n"
     ]
    }
   ],
   "source": [
    "nmf_model = NMF()\n",
    "\n",
    "nmf_model.fit(trainset)\n",
    "nmf_predictions = nmf_model.test(testset)\n",
    "\n",
    "nmf_rmse = accuracy.rmse(nmf_predictions)\n",
    "nmf_mae = accuracy.mae(nmf_predictions)"
   ]
  },
  {
   "cell_type": "code",
   "execution_count": 58,
   "metadata": {},
   "outputs": [
    {
     "data": {
      "image/png": "[encoded data removed]",
      "text/plain": [
       "<Figure size 500x500 with 1 Axes>"
      ]
     },
     "metadata": {},
     "output_type": "display_data"
    }
   ],
   "source": [
    "labels = ['RMSE', 'MAE']\n",
    "\n",
    "svd_scores = [svd_rmse, svd_mae]\n",
    "svdpp_scores = [svdpp_rmse, svdpp_mae]\n",
    "nmf_scores = [nmf_rmse, nmf_mae]\n",
    "\n",
    "x = np.arange(len(labels))  # the label locations\n",
    "width = 0.15  # the width of the bars\n",
    "\n",
    "fig, ax = plt.subplots(figsize=(5, 5))\n",
    "rects1 = ax.bar(x - width, svd_scores, width, label='SVD')\n",
    "rects2 = ax.bar(x, svdpp_scores, width, label='SVD++')\n",
    "rects3 = ax.bar(x + width, nmf_scores, width, label='NMF')\n",
    "\n",
    "# Add some text for labels, title and custom x-axis tick labels, etc.\n",
    "ax.set_ylabel('Scores')\n",
    "ax.set_title('Scores by model and metric')\n",
    "ax.set_xticks(x)\n",
    "ax.set_xticklabels(labels)\n",
    "ax.legend()\n",
    "\n",
    "fig.tight_layout()\n",
    "\n",
    "plt.show()"
   ]
  },
  {
   "cell_type": "code",
   "execution_count": 64,
   "metadata": {},
   "outputs": [
    {
     "data": {
      "text/html": [
       "<div>\n",
       "<style scoped>\n",
       "    .dataframe tbody tr th:only-of-type {\n",
       "        vertical-align: middle;\n",
       "    }\n",
       "\n",
       "    .dataframe tbody tr th {\n",
       "        vertical-align: top;\n",
       "    }\n",
       "\n",
       "    .dataframe thead th {\n",
       "        text-align: right;\n",
       "    }\n",
       "</style>\n",
       "<table border=\"1\" class=\"dataframe\">\n",
       "  <thead>\n",
       "    <tr style=\"text-align: right;\">\n",
       "      <th></th>\n",
       "      <th>UserID</th>\n",
       "      <th>MovieID</th>\n",
       "      <th>Actual Rating</th>\n",
       "      <th>Predicted Rating</th>\n",
       "      <th>Predicted Rating_rounded</th>\n",
       "    </tr>\n",
       "  </thead>\n",
       "  <tbody>\n",
       "    <tr>\n",
       "      <th>0</th>\n",
       "      <td>801800</td>\n",
       "      <td>28</td>\n",
       "      <td>4.0</td>\n",
       "      <td>3.970668</td>\n",
       "      <td>4.0</td>\n",
       "    </tr>\n",
       "    <tr>\n",
       "      <th>1</th>\n",
       "      <td>1423668</td>\n",
       "      <td>83</td>\n",
       "      <td>4.0</td>\n",
       "      <td>3.923044</td>\n",
       "      <td>4.0</td>\n",
       "    </tr>\n",
       "    <tr>\n",
       "      <th>2</th>\n",
       "      <td>2299957</td>\n",
       "      <td>33</td>\n",
       "      <td>5.0</td>\n",
       "      <td>4.060437</td>\n",
       "      <td>4.0</td>\n",
       "    </tr>\n",
       "    <tr>\n",
       "      <th>3</th>\n",
       "      <td>2070952</td>\n",
       "      <td>28</td>\n",
       "      <td>3.0</td>\n",
       "      <td>3.800646</td>\n",
       "      <td>4.0</td>\n",
       "    </tr>\n",
       "    <tr>\n",
       "      <th>4</th>\n",
       "      <td>277099</td>\n",
       "      <td>143</td>\n",
       "      <td>3.0</td>\n",
       "      <td>3.955946</td>\n",
       "      <td>4.0</td>\n",
       "    </tr>\n",
       "    <tr>\n",
       "      <th>5</th>\n",
       "      <td>11424</td>\n",
       "      <td>133</td>\n",
       "      <td>5.0</td>\n",
       "      <td>3.511759</td>\n",
       "      <td>4.0</td>\n",
       "    </tr>\n",
       "    <tr>\n",
       "      <th>6</th>\n",
       "      <td>2382505</td>\n",
       "      <td>143</td>\n",
       "      <td>4.0</td>\n",
       "      <td>4.006191</td>\n",
       "      <td>4.0</td>\n",
       "    </tr>\n",
       "    <tr>\n",
       "      <th>7</th>\n",
       "      <td>1982434</td>\n",
       "      <td>145</td>\n",
       "      <td>3.0</td>\n",
       "      <td>2.797178</td>\n",
       "      <td>3.0</td>\n",
       "    </tr>\n",
       "    <tr>\n",
       "      <th>8</th>\n",
       "      <td>1485835</td>\n",
       "      <td>28</td>\n",
       "      <td>4.0</td>\n",
       "      <td>3.867430</td>\n",
       "      <td>4.0</td>\n",
       "    </tr>\n",
       "    <tr>\n",
       "      <th>9</th>\n",
       "      <td>419369</td>\n",
       "      <td>17</td>\n",
       "      <td>4.0</td>\n",
       "      <td>2.953828</td>\n",
       "      <td>3.0</td>\n",
       "    </tr>\n",
       "    <tr>\n",
       "      <th>10</th>\n",
       "      <td>451011</td>\n",
       "      <td>77</td>\n",
       "      <td>2.0</td>\n",
       "      <td>2.571583</td>\n",
       "      <td>3.0</td>\n",
       "    </tr>\n",
       "    <tr>\n",
       "      <th>11</th>\n",
       "      <td>970517</td>\n",
       "      <td>32</td>\n",
       "      <td>5.0</td>\n",
       "      <td>3.949470</td>\n",
       "      <td>4.0</td>\n",
       "    </tr>\n",
       "    <tr>\n",
       "      <th>12</th>\n",
       "      <td>2154539</td>\n",
       "      <td>143</td>\n",
       "      <td>3.0</td>\n",
       "      <td>3.990140</td>\n",
       "      <td>4.0</td>\n",
       "    </tr>\n",
       "    <tr>\n",
       "      <th>13</th>\n",
       "      <td>838130</td>\n",
       "      <td>111</td>\n",
       "      <td>3.0</td>\n",
       "      <td>3.366292</td>\n",
       "      <td>3.0</td>\n",
       "    </tr>\n",
       "    <tr>\n",
       "      <th>14</th>\n",
       "      <td>2499894</td>\n",
       "      <td>68</td>\n",
       "      <td>2.0</td>\n",
       "      <td>3.449704</td>\n",
       "      <td>3.0</td>\n",
       "    </tr>\n",
       "    <tr>\n",
       "      <th>15</th>\n",
       "      <td>2624473</td>\n",
       "      <td>30</td>\n",
       "      <td>4.0</td>\n",
       "      <td>3.720911</td>\n",
       "      <td>4.0</td>\n",
       "    </tr>\n",
       "    <tr>\n",
       "      <th>16</th>\n",
       "      <td>1837968</td>\n",
       "      <td>30</td>\n",
       "      <td>2.0</td>\n",
       "      <td>3.879969</td>\n",
       "      <td>4.0</td>\n",
       "    </tr>\n",
       "    <tr>\n",
       "      <th>17</th>\n",
       "      <td>1848111</td>\n",
       "      <td>111</td>\n",
       "      <td>5.0</td>\n",
       "      <td>3.075149</td>\n",
       "      <td>3.0</td>\n",
       "    </tr>\n",
       "    <tr>\n",
       "      <th>18</th>\n",
       "      <td>198601</td>\n",
       "      <td>52</td>\n",
       "      <td>4.0</td>\n",
       "      <td>3.755549</td>\n",
       "      <td>4.0</td>\n",
       "    </tr>\n",
       "    <tr>\n",
       "      <th>19</th>\n",
       "      <td>1905098</td>\n",
       "      <td>113</td>\n",
       "      <td>5.0</td>\n",
       "      <td>3.792697</td>\n",
       "      <td>4.0</td>\n",
       "    </tr>\n",
       "  </tbody>\n",
       "</table>\n",
       "</div>"
      ],
      "text/plain": [
       "     UserID  MovieID  Actual Rating  Predicted Rating   \n",
       "0    801800       28            4.0          3.970668  \\\n",
       "1   1423668       83            4.0          3.923044   \n",
       "2   2299957       33            5.0          4.060437   \n",
       "3   2070952       28            3.0          3.800646   \n",
       "4    277099      143            3.0          3.955946   \n",
       "5     11424      133            5.0          3.511759   \n",
       "6   2382505      143            4.0          4.006191   \n",
       "7   1982434      145            3.0          2.797178   \n",
       "8   1485835       28            4.0          3.867430   \n",
       "9    419369       17            4.0          2.953828   \n",
       "10   451011       77            2.0          2.571583   \n",
       "11   970517       32            5.0          3.949470   \n",
       "12  2154539      143            3.0          3.990140   \n",
       "13   838130      111            3.0          3.366292   \n",
       "14  2499894       68            2.0          3.449704   \n",
       "15  2624473       30            4.0          3.720911   \n",
       "16  1837968       30            2.0          3.879969   \n",
       "17  1848111      111            5.0          3.075149   \n",
       "18   198601       52            4.0          3.755549   \n",
       "19  1905098      113            5.0          3.792697   \n",
       "\n",
       "    Predicted Rating_rounded  \n",
       "0                        4.0  \n",
       "1                        4.0  \n",
       "2                        4.0  \n",
       "3                        4.0  \n",
       "4                        4.0  \n",
       "5                        4.0  \n",
       "6                        4.0  \n",
       "7                        3.0  \n",
       "8                        4.0  \n",
       "9                        3.0  \n",
       "10                       3.0  \n",
       "11                       4.0  \n",
       "12                       4.0  \n",
       "13                       3.0  \n",
       "14                       3.0  \n",
       "15                       4.0  \n",
       "16                       4.0  \n",
       "17                       3.0  \n",
       "18                       4.0  \n",
       "19                       4.0  "
      ]
     },
     "execution_count": 64,
     "metadata": {},
     "output_type": "execute_result"
    }
   ],
   "source": [
    "df_test = pd.DataFrame(svd_predictions, columns=['uid', 'iid', 'rui', 'est', 'details'])\n",
    "df_test.columns = ['UserID', 'MovieID', 'Actual Rating', 'Predicted Rating', 'Details']\n",
    "# Round predicted ratings to nearest half\n",
    "df_test['Predicted Rating_rounded'] = df_test['Predicted Rating'].round()\n",
    "df_test.drop(['Details'], axis=1, inplace=True)\n",
    "df_test.head(20)"
   ]
  }
 ],
 "metadata": {
  "kernelspec": {
   "display_name": "base",
   "language": "python",
   "name": "python3"
  },
  "language_info": {
   "codemirror_mode": {
    "name": "ipython",
    "version": 3
   },
   "file_extension": ".py",
   "mimetype": "text/x-python",
   "name": "python",
   "nbconvert_exporter": "python",
   "pygments_lexer": "ipython3",
   "version": "3.10.9 (main, Mar  1 2023, 18:23:06) [GCC 11.2.0]"
  },
  "orig_nbformat": 4,
  "vscode": {
   "interpreter": {
    "hash": "00ce103d207fa464909089038cbb20858d575a51d523c5845ba10c5925ad3bd0"
   }
  }
 },
 "nbformat": 4,
 "nbformat_minor": 2
}
